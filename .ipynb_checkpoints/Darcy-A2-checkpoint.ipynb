{
 "cells": [
  {
   "cell_type": "markdown",
   "metadata": {},
   "source": [
    "# Assignment 2: Iterative-Deepening Search"
   ]
  },
  {
   "cell_type": "markdown",
   "metadata": {},
   "source": [
    "*Type your name here.*"
   ]
  },
  {
   "cell_type": "markdown",
   "metadata": {},
   "source": [
    "## Overview"
   ]
  },
  {
   "cell_type": "markdown",
   "metadata": {},
   "source": [
    "Implement the iterative-deepening search algorithm as discussed in our Week 2 lecture notes and as shown in figures 3.17 and 3.18 in our text book. Apply it to the 8-puzzle and a second puzzle of your choice. "
   ]
  },
  {
   "cell_type": "markdown",
   "metadata": {},
   "source": [
    "## Required Code"
   ]
  },
  {
   "cell_type": "markdown",
   "metadata": {},
   "source": [
    "In this jupyter notebook, implement the following functions:\n",
    "\n",
    "  * `iterativeDeepeningSearch(startState, goalState, actionsF, takeActionF, maxDepth)`\n",
    "  * `depthLimitedSearch(startState, goalState, actionsF, takeActionF, depthLimit)`\n",
    "  \n",
    "`depthLimitedSearch` is called by `iterativeDeepeningSearch` with `depthLimit`s of $0, 1, \\ldots, $ `maxDepth`. Both must return either the solution path as a list of states, or the strings `cutoff` or `failure`.  `failure` signifies that all states were searched and the goal was not found. \n",
    "\n",
    "Each receives the arguments\n",
    "\n",
    "  * the starting state, \n",
    "  * the goal state,\n",
    "  * a function `actionsF` that is given a state and returns a list of valid actions from that state,\n",
    "  * a function `takeActionF` that is given a state and an action and returns the new state that results from applying the action to the state,\n",
    "  * either a `depthLimit` for `depthLimitedSearch`, or `maxDepth` for `iterativeDeepeningSearch`."
   ]
  },
  {
   "cell_type": "markdown",
   "metadata": {},
   "source": [
    "Use your solution to solve the 8-puzzle.\n",
    "Implement the state of the puzzle as a list of integers. 0 represents the empty position. \n",
    "\n",
    "Required functions for the 8-puzzle are the following.\n",
    "\n",
    "  * `findBlank_8p(state)`: return the row and column index for the location of the blank (the 0 value).\n",
    "  * `actionsF_8p(state)`: returns a list of up to four valid actions that can be applied in `state`. Return them in the order `left`, `right`, `up`, `down`, though only if each one is a valid action.\n",
    "  * `takeActionF_8p(state, action)`: return the state that results from applying `action` in `state`.\n",
    "  * `printPath_8p(startState, goalState, path)`: print a solution path in a readable form.  You choose the format."
   ]
  },
  {
   "cell_type": "markdown",
   "metadata": {},
   "source": [
    "<font color='red'>Also</font>, implement a second search problem of your choice.  Apply your `iterativeDeepeningSearch` function to it."
   ]
  },
  {
   "cell_type": "markdown",
   "metadata": {},
   "source": [
    "Insert your function definitions in this notebook."
   ]
  },
  {
   "cell_type": "code",
   "execution_count": null,
   "metadata": {
    "collapsed": true
   },
   "outputs": [],
   "source": [
    "def depthLimitedSearch(startState, goalState, actionsF, takeActionF, depthLimit):\n",
    "    #np array is dumb and compares element by element with ==\n",
    "    if np.array_equal(startState,goalState): return []\n",
    "    #stop recursing if at depth limit\n",
    "    #dont use is because it compares references not values.\n",
    "    if depthLimit == 0: return 'cutoff'\n",
    "    cutoffOccurred = False\n",
    "    \n",
    "    for action in actionsF(startState):\n",
    "        childState = takeActionF(startState, action)\n",
    "        result = depthLimitedSearch(childState, goalState, actionsF, takeActionF, depthLimit-1)\n",
    "        if result == 'cutoff': cutoffOccurred = True\n",
    "        elif result != 'failure':\n",
    "            result.insert(0,childState)\n",
    "            return result\n",
    "    if cutoffOccurred: return 'cutoff'\n",
    "    else: return 'failure'"
   ]
  },
  {
   "cell_type": "markdown",
   "metadata": {},
   "source": [
    "Pretty similar to depth first search but with a limit on the depth now, concepts were relatively straightforeward\n",
    "\n",
    "I had some fun playing with np arrays and seeing what they could do. I built functions to for actions and takeaction for both np arrays and regular lists. "
   ]
  },
  {
   "cell_type": "code",
   "execution_count": null,
   "metadata": {
    "collapsed": true
   },
   "outputs": [],
   "source": [
    "def iterativeDeepeningSearch(startState, goalState, actionsF, takeActionF, maxDepth):\n",
    "    for depth in range(maxDepth):\n",
    "        #print(depth)\n",
    "        result = depthLimitedSearch(startState, goalState, actionsF, takeActionF, depth)\n",
    "        if result == 'failure': return failure\n",
    "        if result != 'cutoff':\n",
    "            result.insert(0,startState)\n",
    "            return result\n",
    "    return 'cutoff'\n",
    "    \n",
    "    "
   ]
  },
  {
   "cell_type": "markdown",
   "metadata": {},
   "source": [
    "Iterative deepening is interesting in the way that it finds the best solution by searching the depths one at a time, since obviously it is better to have a solution that takes less steps. Throwing away the previous iterations of depthlimitedsearch seemed counter intuitive at first until considering the branching factor and ratios of work as discussed in lecture"
   ]
  },
  {
   "cell_type": "code",
   "execution_count": null,
   "metadata": {
    "collapsed": true
   },
   "outputs": [],
   "source": [
    "import numpy as np\n",
    "from copy import copy, deepcopy"
   ]
  },
  {
   "cell_type": "code",
   "execution_count": null,
   "metadata": {
    "collapsed": true
   },
   "outputs": [],
   "source": [
    "state1 = np.array([[1,4,3],[2,8,5],[6,7,0]])\n",
    "state2 = [1,2,3,4,5,6,7,8,0]"
   ]
  },
  {
   "cell_type": "markdown",
   "metadata": {},
   "source": [
    "Some states to play with for np array based state and list based state\n"
   ]
  },
  {
   "cell_type": "code",
   "execution_count": null,
   "metadata": {
    "collapsed": true
   },
   "outputs": [],
   "source": [
    "def findBlank(state):\n",
    "    for i in range(0,3):\n",
    "        for j in range(0,3):\n",
    "            if state[i,j] == 0: \n",
    "                return [i,j]\n",
    "    "
   ]
  },
  {
   "cell_type": "code",
   "execution_count": null,
   "metadata": {
    "collapsed": true
   },
   "outputs": [],
   "source": [
    "def findBlank_8p(state):\n",
    "    for i in range(0,9):\n",
    "        if state[i] == 0: \n",
    "            return (int(i/3), i%3)\n",
    "    "
   ]
  },
  {
   "cell_type": "markdown",
   "metadata": {},
   "source": [
    "Find the 0 in the state. This is the first time Ive seen multiple values returned for a function, that was an interesting thing to work with"
   ]
  },
  {
   "cell_type": "code",
   "execution_count": null,
   "metadata": {
    "collapsed": true
   },
   "outputs": [],
   "source": [
    "#returns list of all valid actions given a certain state\n",
    "def actionsF(state):\n",
    "    actions = []\n",
    "    position = findBlank(state)\n",
    "    if position[0] != 0: actions.append('up')\n",
    "    if position[0] != 2: actions.append('down')\n",
    "    if position[1] != 0: actions.append('right')\n",
    "    if position[1] != 2: actions.append('left')\n",
    "    return actions\n",
    "    "
   ]
  },
  {
   "cell_type": "code",
   "execution_count": null,
   "metadata": {
    "collapsed": true
   },
   "outputs": [],
   "source": [
    "#returns list of all valid actions given a certain state\n",
    "def actionsF_8p(state):\n",
    "    actions = []\n",
    "    position = findBlank_8p(state)\n",
    "    if position[1] != 2: actions.append('left')\n",
    "    if position[1] != 0: actions.append('right')\n",
    "    if position[0] != 0: actions.append('up')\n",
    "    if position[0] != 2: actions.append('down')\n",
    "    \n",
    "    \n",
    "    return actions\n",
    "    "
   ]
  },
  {
   "cell_type": "markdown",
   "metadata": {},
   "source": [
    "Gives valid actions based on if the blank is on the edges of the puzzle"
   ]
  },
  {
   "cell_type": "code",
   "execution_count": 74,
   "metadata": {
    "scrolled": true
   },
   "outputs": [
    {
     "data": {
      "text/plain": [
       "['right', 'up']"
      ]
     },
     "execution_count": 74,
     "metadata": {},
     "output_type": "execute_result"
    }
   ],
   "source": [
    "actionsF_8p(state2)"
   ]
  },
  {
   "cell_type": "markdown",
   "metadata": {},
   "source": [
    "Works correctly"
   ]
  },
  {
   "cell_type": "code",
   "execution_count": null,
   "metadata": {
    "collapsed": true
   },
   "outputs": [],
   "source": [
    "#A and B are lists that contain the i,j positions of the things that need to be swapped\n",
    "def swap(A,B,state):\n",
    "    temp = state[A[0],A[1]]\n",
    "    state[A[0],A[1]] = state[B[0],B[1]]\n",
    "    state[B[0],B[1]] = temp"
   ]
  },
  {
   "cell_type": "code",
   "execution_count": null,
   "metadata": {
    "collapsed": true
   },
   "outputs": [],
   "source": [
    "#A and B are lists that contain the i,j positions of the things that need to be swapped\n",
    "def swap_8p(A,B,state):\n",
    "    temp = state[A]\n",
    "    state[A] = state[B]\n",
    "    state[B] = temp"
   ]
  },
  {
   "cell_type": "code",
   "execution_count": null,
   "metadata": {
    "collapsed": true
   },
   "outputs": [],
   "source": [
    "def takeActionF(state, action):\n",
    "    blank = findBlank(state)\n",
    "    resultState = copy(state)\n",
    "    if action == 'down': \n",
    "        swap(blank,[blank[0]+1,blank[1]],resultState)\n",
    "    if action == 'up': \n",
    "        swap(blank,[blank[0]-1,blank[1]],resultState)\n",
    "    if action == 'right': \n",
    "        swap(blank,[blank[0],blank[1]-1],resultState)\n",
    "    if action == 'left': \n",
    "        swap(blank,[blank[0],blank[1]+1],resultState)\n",
    "    return resultState\n",
    "        "
   ]
  },
  {
   "cell_type": "code",
   "execution_count": null,
   "metadata": {
    "collapsed": true
   },
   "outputs": [],
   "source": [
    "def takeActionF_8p(state, action):\n",
    "    a, b = findBlank_8p(state)\n",
    "    blank = a*3 + b\n",
    "    resultState = copy(state)\n",
    "    if action == 'down': \n",
    "        swap_8p(blank,blank+3,resultState)\n",
    "    if action == 'up': \n",
    "        swap_8p(blank,blank-3,resultState)\n",
    "    if action == 'left': \n",
    "        swap_8p(blank,blank+1,resultState)\n",
    "    if action == 'right': \n",
    "        swap_8p(blank,blank-1,resultState)\n",
    "    return resultState\n",
    "        "
   ]
  },
  {
   "cell_type": "markdown",
   "metadata": {},
   "source": [
    "Swap the blank with an element on one of its sides based on the action you want to take. No checks for valid actions because depthlimitedsearch already checks that before calling these methods"
   ]
  },
  {
   "cell_type": "code",
   "execution_count": 75,
   "metadata": {},
   "outputs": [
    {
     "name": "stdout",
     "output_type": "stream",
     "text": [
      "[1, 2, 3, 4, 5, 6, 7, 8, 0]\n"
     ]
    },
    {
     "data": {
      "text/plain": [
       "[1, 2, 3, 4, 5, 6, 7, 0, 8]"
      ]
     },
     "execution_count": 75,
     "metadata": {},
     "output_type": "execute_result"
    }
   ],
   "source": [
    "print(state2)\n",
    "newState = takeActionF_8p(state2,'right')\n",
    "newState"
   ]
  },
  {
   "cell_type": "markdown",
   "metadata": {},
   "source": [
    "Does what it is supposed to"
   ]
  },
  {
   "cell_type": "code",
   "execution_count": 77,
   "metadata": {
    "scrolled": true
   },
   "outputs": [
    {
     "name": "stdout",
     "output_type": "stream",
     "text": [
      "[[1 3 0]\n",
      " [4 2 5]\n",
      " [6 7 8]]\n",
      "[[1 0 3]\n",
      " [4 2 5]\n",
      " [6 7 8]]\n",
      "[[1 2 3]\n",
      " [4 0 5]\n",
      " [6 7 8]]\n"
     ]
    }
   ],
   "source": [
    "startState = np.array([[1,3,0],[4,2,5],[6,7,8]])\n",
    "goalState = np.array([[1,2,3],[4,0,5],[6,7,8]])\n",
    "#depthLimitedSearch(startState, goalState, actionsF, takeActionF, 3)\n",
    "result = iterativeDeepeningSearch(startState, goalState, actionsF, takeActionF, 3)\n",
    "for step in result: print(step)"
   ]
  },
  {
   "cell_type": "markdown",
   "metadata": {},
   "source": [
    "Here is an example of a starting state that takes 3 moves to get to the goalstate solved by iterative deepening"
   ]
  },
  {
   "cell_type": "code",
   "execution_count": 39,
   "metadata": {},
   "outputs": [],
   "source": [
    "def printState_8p(state):\n",
    "    print(state[0:3])\n",
    "    print(state[3:6])\n",
    "    print(state[6:9])"
   ]
  },
  {
   "cell_type": "markdown",
   "metadata": {},
   "source": [
    "Print method for if the state is a list. np arrays already print nicely so there is no point"
   ]
  },
  {
   "cell_type": "markdown",
   "metadata": {},
   "source": [
    "# MY PUZZLE"
   ]
  },
  {
   "cell_type": "markdown",
   "metadata": {},
   "source": [
    "This puzzle is from a game that I personally play, path of exile. It involves 8 pillars in an on/off state. By touching one, you flip the state of it and its 2 neighbors."
   ]
  },
  {
   "cell_type": "code",
   "execution_count": 79,
   "metadata": {
    "scrolled": true
   },
   "outputs": [
    {
     "data": {
      "text/html": [
       "\n",
       "        <iframe\n",
       "            width=\"1200\"\n",
       "            height=\"1000\"\n",
       "            src=\"./maxresdefault.jpg\"\n",
       "            frameborder=\"0\"\n",
       "            allowfullscreen\n",
       "        ></iframe>\n",
       "        "
      ],
      "text/plain": [
       "<IPython.lib.display.IFrame at 0x7f4ed5564358>"
      ]
     },
     "execution_count": 79,
     "metadata": {},
     "output_type": "execute_result"
    }
   ],
   "source": [
    "\n",
    "\n",
    "from IPython.display import IFrame\n",
    "IFrame(\"./maxresdefault.jpg\", width=1200, height=1000)\n",
    "\n"
   ]
  },
  {
   "cell_type": "markdown",
   "metadata": {},
   "source": [
    "The goal is to get all the pillars into the on state, marked by the skull ball being present in the middle of it.\n",
    "\n",
    "I represented the state of this  as an array of 8 elements that are either 0 or 1. Updating the state by interacting with an element changes th its neighbors states to the oposite of whatever they are."
   ]
  },
  {
   "cell_type": "code",
   "execution_count": 69,
   "metadata": {},
   "outputs": [
    {
     "data": {
      "text/plain": [
       "[0, 0, 0, 0, 0, 0, 0, 0]"
      ]
     },
     "execution_count": 69,
     "metadata": {},
     "output_type": "execute_result"
    }
   ],
   "source": [
    "state = [0,0,0,0,0,0,0,0]\n",
    "state"
   ]
  },
  {
   "cell_type": "code",
   "execution_count": 70,
   "metadata": {
    "collapsed": true
   },
   "outputs": [],
   "source": [
    "def actionsF_poe(state):\n",
    "    return [0,1,2,3,4,5,6,7]\n",
    "    "
   ]
  },
  {
   "cell_type": "markdown",
   "metadata": {},
   "source": [
    "At any given state, all of the possible actions are the same, since there is no state that can prevent any of the actions from being valid"
   ]
  },
  {
   "cell_type": "code",
   "execution_count": 71,
   "metadata": {
    "collapsed": true
   },
   "outputs": [],
   "source": [
    "def takeActionF_poe(inputState,action):\n",
    "    state = copy(inputState)\n",
    "    if state[action] == 1: state[action] = 0\n",
    "    else: state[action] = 1\n",
    "    if state[action-1] == 1: state[action-1] = 0\n",
    "    else: state[action-1] = 1\n",
    "    if state[(action+1)%8] == 1: state[(action+1)%8] = 0\n",
    "    else: state[(action+1)%8] = 1\n",
    "    \n",
    "    return state"
   ]
  },
  {
   "cell_type": "markdown",
   "metadata": {},
   "source": [
    "Taking an action represents touching one of the pillars. When a pillar is touched, it flips the state of itself and its two neighboring pillars."
   ]
  },
  {
   "cell_type": "code",
   "execution_count": 73,
   "metadata": {},
   "outputs": [
    {
     "name": "stdout",
     "output_type": "stream",
     "text": [
      "[0, 1, 2, 3, 4, 5, 6, 7]\n"
     ]
    },
    {
     "data": {
      "text/plain": [
       "[1, 1, 0, 0, 0, 0, 0, 1]"
      ]
     },
     "execution_count": 73,
     "metadata": {},
     "output_type": "execute_result"
    }
   ],
   "source": [
    "print(actionsF_poe(state))\n",
    "takeActionF_poe(state,0)\n"
   ]
  },
  {
   "cell_type": "markdown",
   "metadata": {},
   "source": [
    "Here I vertify that the actionsF and takeActionF methods are working properly"
   ]
  },
  {
   "cell_type": "markdown",
   "metadata": {},
   "source": [
    "# Solving the puzzle state in the picture"
   ]
  },
  {
   "cell_type": "code",
   "execution_count": 65,
   "metadata": {
    "scrolled": true
   },
   "outputs": [
    {
     "data": {
      "text/plain": [
       "[[0, 1, 0, 1, 0, 1, 0, 1],\n",
       " [1, 0, 0, 1, 0, 1, 0, 0],\n",
       " [1, 1, 1, 0, 0, 1, 0, 0],\n",
       " [1, 1, 1, 1, 1, 0, 0, 0],\n",
       " [1, 1, 1, 1, 1, 1, 1, 1]]"
      ]
     },
     "execution_count": 65,
     "metadata": {},
     "output_type": "execute_result"
    }
   ],
   "source": [
    "startState = [0,1,0,1,0,1,0,1]\n",
    "goalState = [1,1,1,1,1,1,1,1]\n",
    "iterativeDeepeningSearch(startState,goalState,actionsF_poe,takeActionF_poe,10)"
   ]
  },
  {
   "cell_type": "markdown",
   "metadata": {},
   "source": [
    "Iterative deepening finds a solution in only 5 moves from the start state. Thats a lot better than me trying to press pillars until something works"
   ]
  },
  {
   "cell_type": "code",
   "execution_count": 67,
   "metadata": {
    "scrolled": true
   },
   "outputs": [
    {
     "data": {
      "text/plain": [
       "[[0, 0, 0, 0, 0, 0, 0, 0],\n",
       " [1, 1, 0, 0, 0, 0, 0, 1],\n",
       " [0, 0, 1, 0, 0, 0, 0, 1],\n",
       " [0, 1, 0, 1, 0, 0, 0, 1],\n",
       " [0, 1, 1, 0, 1, 0, 0, 1],\n",
       " [0, 1, 1, 1, 0, 1, 0, 1],\n",
       " [0, 1, 1, 1, 1, 0, 1, 1],\n",
       " [0, 1, 1, 1, 1, 1, 0, 0],\n",
       " [1, 1, 1, 1, 1, 1, 1, 1]]"
      ]
     },
     "execution_count": 67,
     "metadata": {},
     "output_type": "execute_result"
    }
   ],
   "source": [
    "startState = [0,0,0,0,0,0,0,0]\n",
    "goalState = [1,1,1,1,1,1,1,1]\n",
    "iterativeDeepeningSearch(startState,goalState,actionsF_poe,takeActionF_poe,10)"
   ]
  },
  {
   "cell_type": "markdown",
   "metadata": {},
   "source": [
    "When the puzzle starts will all the pillars in the off state, the iterative deepening algorith takes a fair bit longer to run. My puzzle here has a branching factor of 8 at each level, so it is expected that when the program needs to delve to deeper depths to find the solution the execution time grows quickly. I could make the branching factor 7 if I prevented the program from taking the same action that it took in the last move (undoing the last move), but that would require passing more variables through the state and actions function."
   ]
  },
  {
   "cell_type": "markdown",
   "metadata": {},
   "source": [
    "# Here are some example results from the provided tests"
   ]
  },
  {
   "cell_type": "code",
   "execution_count": 41,
   "metadata": {
    "collapsed": true
   },
   "outputs": [],
   "source": [
    "startState = [1, 0, 3, 4, 2, 5, 6, 7, 8]"
   ]
  },
  {
   "cell_type": "code",
   "execution_count": 42,
   "metadata": {},
   "outputs": [
    {
     "name": "stdout",
     "output_type": "stream",
     "text": [
      "[1, 0, 3]\n",
      "[4, 2, 5]\n",
      "[6, 7, 8]\n"
     ]
    }
   ],
   "source": [
    "printState_8p(startState)  # not a required function for this assignment, but it helps when implementing printPath_8p"
   ]
  },
  {
   "cell_type": "code",
   "execution_count": 43,
   "metadata": {},
   "outputs": [
    {
     "data": {
      "text/plain": [
       "(0, 1)"
      ]
     },
     "execution_count": 43,
     "metadata": {},
     "output_type": "execute_result"
    }
   ],
   "source": [
    "findBlank_8p(startState)"
   ]
  },
  {
   "cell_type": "code",
   "execution_count": 44,
   "metadata": {},
   "outputs": [
    {
     "data": {
      "text/plain": [
       "['left', 'right', 'down']"
      ]
     },
     "execution_count": 44,
     "metadata": {},
     "output_type": "execute_result"
    }
   ],
   "source": [
    "actionsF_8p(startState)"
   ]
  },
  {
   "cell_type": "code",
   "execution_count": 45,
   "metadata": {},
   "outputs": [
    {
     "data": {
      "text/plain": [
       "[1, 2, 3, 4, 0, 5, 6, 7, 8]"
      ]
     },
     "execution_count": 45,
     "metadata": {},
     "output_type": "execute_result"
    }
   ],
   "source": [
    "takeActionF_8p(startState, 'down')"
   ]
  },
  {
   "cell_type": "code",
   "execution_count": 46,
   "metadata": {},
   "outputs": [
    {
     "name": "stdout",
     "output_type": "stream",
     "text": [
      "[1, 2, 3]\n",
      "[4, 0, 5]\n",
      "[6, 7, 8]\n"
     ]
    }
   ],
   "source": [
    "printState_8p(takeActionF_8p(startState, 'down'))"
   ]
  },
  {
   "cell_type": "code",
   "execution_count": 47,
   "metadata": {
    "collapsed": true
   },
   "outputs": [],
   "source": [
    "goalState = takeActionF_8p(startState, 'down')"
   ]
  },
  {
   "cell_type": "code",
   "execution_count": 48,
   "metadata": {
    "collapsed": true
   },
   "outputs": [],
   "source": [
    "newState = takeActionF_8p(startState, 'down')"
   ]
  },
  {
   "cell_type": "code",
   "execution_count": 49,
   "metadata": {},
   "outputs": [
    {
     "data": {
      "text/plain": [
       "True"
      ]
     },
     "execution_count": 49,
     "metadata": {},
     "output_type": "execute_result"
    }
   ],
   "source": [
    "newState == goalState"
   ]
  },
  {
   "cell_type": "code",
   "execution_count": 50,
   "metadata": {},
   "outputs": [
    {
     "data": {
      "text/plain": [
       "[1, 0, 3, 4, 2, 5, 6, 7, 8]"
      ]
     },
     "execution_count": 50,
     "metadata": {},
     "output_type": "execute_result"
    }
   ],
   "source": [
    "startState"
   ]
  },
  {
   "cell_type": "code",
   "execution_count": 51,
   "metadata": {
    "scrolled": true
   },
   "outputs": [
    {
     "data": {
      "text/plain": [
       "[[1, 3, 0, 4, 2, 5, 6, 7, 8],\n",
       " [1, 0, 3, 4, 2, 5, 6, 7, 8],\n",
       " [1, 2, 3, 4, 0, 5, 6, 7, 8]]"
      ]
     },
     "execution_count": 51,
     "metadata": {},
     "output_type": "execute_result"
    }
   ],
   "source": [
    "path = depthLimitedSearch(startState, goalState, actionsF_8p, takeActionF_8p, 3)\n",
    "path"
   ]
  },
  {
   "cell_type": "markdown",
   "metadata": {},
   "source": [
    "Notice that `depthLimitedSearch` result is missing the start state.  This is inserted by `iterativeDeepeningSearch`.\n",
    "\n",
    "But, when we try `iterativeDeepeningSearch` to do the same search, it finds a shorter path!"
   ]
  },
  {
   "cell_type": "code",
   "execution_count": 52,
   "metadata": {
    "scrolled": true
   },
   "outputs": [
    {
     "data": {
      "text/plain": [
       "[[1, 0, 3, 4, 2, 5, 6, 7, 8], [1, 2, 3, 4, 0, 5, 6, 7, 8]]"
      ]
     },
     "execution_count": 52,
     "metadata": {},
     "output_type": "execute_result"
    }
   ],
   "source": [
    "path = iterativeDeepeningSearch(startState, goalState, actionsF_8p, takeActionF_8p, 3)\n",
    "path"
   ]
  },
  {
   "cell_type": "markdown",
   "metadata": {},
   "source": [
    "Also notice that the successor states are lists, not tuples.  This is okay, because the search functions for this assignment do not"
   ]
  },
  {
   "cell_type": "code",
   "execution_count": 53,
   "metadata": {},
   "outputs": [
    {
     "data": {
      "text/plain": [
       "'cutoff'"
      ]
     },
     "execution_count": 53,
     "metadata": {},
     "output_type": "execute_result"
    }
   ],
   "source": [
    "startState = [4, 7, 2, 1, 6, 5, 0, 3, 8]\n",
    "path = iterativeDeepeningSearch(startState, goalState, actionsF_8p, takeActionF_8p, 3)\n",
    "path"
   ]
  },
  {
   "cell_type": "code",
   "execution_count": 54,
   "metadata": {},
   "outputs": [
    {
     "data": {
      "text/plain": [
       "'cutoff'"
      ]
     },
     "execution_count": 54,
     "metadata": {},
     "output_type": "execute_result"
    }
   ],
   "source": [
    "startState = [4, 7, 2, 1, 6, 5, 0, 3, 8]\n",
    "path = iterativeDeepeningSearch(startState, goalState, actionsF_8p, takeActionF_8p, 5)\n",
    "path"
   ]
  },
  {
   "cell_type": "markdown",
   "metadata": {},
   "source": [
    "Humm...maybe we can't reach the goal state from this state.  We need a way to randomly generate a valid start state."
   ]
  },
  {
   "cell_type": "code",
   "execution_count": 55,
   "metadata": {
    "collapsed": true
   },
   "outputs": [],
   "source": [
    "import random"
   ]
  },
  {
   "cell_type": "code",
   "execution_count": 56,
   "metadata": {},
   "outputs": [
    {
     "data": {
      "text/plain": [
       "'right'"
      ]
     },
     "execution_count": 56,
     "metadata": {},
     "output_type": "execute_result"
    }
   ],
   "source": [
    "random.choice(['left', 'right'])"
   ]
  },
  {
   "cell_type": "code",
   "execution_count": 57,
   "metadata": {
    "collapsed": true
   },
   "outputs": [],
   "source": [
    "def randomStartState(goalState, actionsF, takeActionF, nSteps):\n",
    "    state = goalState\n",
    "    for i in range(nSteps):\n",
    "        state = takeActionF(state, random.choice(actionsF(state)))\n",
    "    return state"
   ]
  },
  {
   "cell_type": "code",
   "execution_count": 58,
   "metadata": {},
   "outputs": [
    {
     "data": {
      "text/plain": [
       "[0, 2, 3, 1, 4, 5, 6, 7, 8]"
      ]
     },
     "execution_count": 58,
     "metadata": {},
     "output_type": "execute_result"
    }
   ],
   "source": [
    "goalState = [1, 2, 3, 4, 0, 5, 6, 7, 8]\n",
    "randomStartState(goalState, actionsF_8p, takeActionF_8p, 10)"
   ]
  },
  {
   "cell_type": "code",
   "execution_count": 59,
   "metadata": {},
   "outputs": [
    {
     "data": {
      "text/plain": [
       "[3, 4, 5, 1, 0, 7, 6, 8, 2]"
      ]
     },
     "execution_count": 59,
     "metadata": {},
     "output_type": "execute_result"
    }
   ],
   "source": [
    "startState = randomStartState(goalState, actionsF_8p, takeActionF_8p, 50)\n",
    "startState"
   ]
  },
  {
   "cell_type": "code",
   "execution_count": 60,
   "metadata": {},
   "outputs": [
    {
     "data": {
      "text/plain": [
       "[[3, 4, 5, 1, 0, 7, 6, 8, 2],\n",
       " [3, 4, 5, 1, 7, 0, 6, 8, 2],\n",
       " [3, 4, 5, 1, 7, 2, 6, 8, 0],\n",
       " [3, 4, 5, 1, 7, 2, 6, 0, 8],\n",
       " [3, 4, 5, 1, 0, 2, 6, 7, 8],\n",
       " [3, 0, 5, 1, 4, 2, 6, 7, 8],\n",
       " [0, 3, 5, 1, 4, 2, 6, 7, 8],\n",
       " [1, 3, 5, 0, 4, 2, 6, 7, 8],\n",
       " [1, 3, 5, 4, 0, 2, 6, 7, 8],\n",
       " [1, 3, 5, 4, 2, 0, 6, 7, 8],\n",
       " [1, 3, 0, 4, 2, 5, 6, 7, 8],\n",
       " [1, 0, 3, 4, 2, 5, 6, 7, 8],\n",
       " [1, 2, 3, 4, 0, 5, 6, 7, 8]]"
      ]
     },
     "execution_count": 60,
     "metadata": {},
     "output_type": "execute_result"
    }
   ],
   "source": [
    "path = iterativeDeepeningSearch(startState, goalState, actionsF_8p, takeActionF_8p, 20)\n",
    "path"
   ]
  },
  {
   "cell_type": "markdown",
   "metadata": {},
   "source": [
    "Let's print out the state sequence in a readable form."
   ]
  },
  {
   "cell_type": "code",
   "execution_count": 61,
   "metadata": {},
   "outputs": [
    {
     "name": "stdout",
     "output_type": "stream",
     "text": [
      "[3, 4, 5]\n",
      "[1, 0, 7]\n",
      "[6, 8, 2]\n",
      "\n",
      "[3, 4, 5]\n",
      "[1, 7, 0]\n",
      "[6, 8, 2]\n",
      "\n",
      "[3, 4, 5]\n",
      "[1, 7, 2]\n",
      "[6, 8, 0]\n",
      "\n",
      "[3, 4, 5]\n",
      "[1, 7, 2]\n",
      "[6, 0, 8]\n",
      "\n",
      "[3, 4, 5]\n",
      "[1, 0, 2]\n",
      "[6, 7, 8]\n",
      "\n",
      "[3, 0, 5]\n",
      "[1, 4, 2]\n",
      "[6, 7, 8]\n",
      "\n",
      "[0, 3, 5]\n",
      "[1, 4, 2]\n",
      "[6, 7, 8]\n",
      "\n",
      "[1, 3, 5]\n",
      "[0, 4, 2]\n",
      "[6, 7, 8]\n",
      "\n",
      "[1, 3, 5]\n",
      "[4, 0, 2]\n",
      "[6, 7, 8]\n",
      "\n",
      "[1, 3, 5]\n",
      "[4, 2, 0]\n",
      "[6, 7, 8]\n",
      "\n",
      "[1, 3, 0]\n",
      "[4, 2, 5]\n",
      "[6, 7, 8]\n",
      "\n",
      "[1, 0, 3]\n",
      "[4, 2, 5]\n",
      "[6, 7, 8]\n",
      "\n",
      "[1, 2, 3]\n",
      "[4, 0, 5]\n",
      "[6, 7, 8]\n",
      "\n"
     ]
    }
   ],
   "source": [
    "for p in path:\n",
    "    printState_8p(p)\n",
    "    print()"
   ]
  },
  {
   "cell_type": "markdown",
   "metadata": {},
   "source": [
    "Here is one way to format the search problem and solution in a readable form."
   ]
  },
  {
   "cell_type": "code",
   "execution_count": null,
   "metadata": {
    "collapsed": true
   },
   "outputs": [],
   "source": [
    "printPath_8p(startState, goalState, path)"
   ]
  },
  {
   "cell_type": "markdown",
   "metadata": {},
   "source": [
    "Download [A2grader.tar](A2grader.tar) and extract A2grader.py from it."
   ]
  },
  {
   "cell_type": "code",
   "execution_count": 63,
   "metadata": {
    "scrolled": true
   },
   "outputs": [
    {
     "name": "stdout",
     "output_type": "stream",
     "text": [
      "\n",
      "======================= Code Execution =======================\n",
      "\n",
      "Extracting python code from notebook named 'Darcy-A2.ipynb' and storing in notebookcode.py\n",
      "Removing all statements that are not function or class defs or import statements.\n",
      "CRITICAL ERROR: Function named 'printPath_8p' is not defined\n",
      "  Check the spelling and capitalization of the function name.\n",
      "\n",
      "Searching this graph:\n",
      " {'a': ['b', 'z', 'd'], 'b': ['a'], 'e': ['z'], 'd': ['y'], 'y': ['z']}\n",
      "\n",
      "Looking for path from a to y with max depth of 1.\n",
      " 5/ 5 points. Your search correctly returned cutoff\n",
      "\n",
      "Looking for path from a to z with max depth of 5.\n",
      "10/10 points. Your search correctly returned ['a', 'z']\n",
      "\n",
      "Testing findBlank_8p([1, 2, 3, 4, 5, 6, 7, 0, 8])\n",
      " 5/ 5 points. Your findBlank_8p correctly returned 2 1\n",
      "\n",
      "Testing actionsF_8p([1, 2, 3, 4, 5, 6, 7, 0, 8])\n",
      "10/10 points. Your actionsF_8p correctly returned ['left', 'right', 'up']\n",
      "\n",
      "Testing takeActionF_8p([1, 2, 3, 4, 5, 6, 7, 0, 8],up)\n",
      "10/10 points. Your takeActionsF_8p correctly returned [1, 2, 3, 4, 0, 6, 7, 5, 8]\n",
      "\n",
      "Testing iterativeDeepeningSearch([1, 2, 3, 4, 5, 6, 7, 0, 8],[0, 2, 3, 1, 4,  6, 7, 5, 8], actionsF_8p, takeActionF_8p, 5)\n",
      "20/20 points. Your search correctly returned [[1, 2, 3, 4, 5, 6, 7, 0, 8], [1, 2, 3, 4, 0, 6, 7, 5, 8], [1, 2, 3, 0, 4, 6, 7, 5, 8], [0, 2, 3, 1, 4, 6, 7, 5, 8]]\n",
      "\n",
      "Testing iterativeDeepeningSearch([5, 2, 8, 0, 1, 4, 3, 7, 6], [0, 2, 3, 1, 4,  6, 7, 5, 8], actionsF_8p, takeActionF_8p, 10)\n",
      "20/20 points. Your search correctly returned cutoff\n",
      "\n",
      "cs440 Grade is 80/80\n",
      "\n",
      "Up to 20 more points will be given based on the quality of your descriptions of the method and the results.\n"
     ]
    }
   ],
   "source": [
    "%run -i A2grader.py"
   ]
  },
  {
   "cell_type": "markdown",
   "metadata": {},
   "source": [
    "## Extra Credit\n",
    "\n",
    "For extra credit, apply your solution to the grid example in Assignment 1 with the addition of a horizontal and vertical barrier at least three positions long.  Demonstrate the solutions found in four different pairs of start and goal states."
   ]
  }
 ],
 "metadata": {
  "anaconda-cloud": {},
  "kernelspec": {
   "display_name": "Python 3",
   "language": "python",
   "name": "python3"
  },
  "language_info": {
   "codemirror_mode": {
    "name": "ipython",
    "version": 3
   },
   "file_extension": ".py",
   "mimetype": "text/x-python",
   "name": "python",
   "nbconvert_exporter": "python",
   "pygments_lexer": "ipython3",
   "version": "3.6.3"
  }
 },
 "nbformat": 4,
 "nbformat_minor": 1
}
