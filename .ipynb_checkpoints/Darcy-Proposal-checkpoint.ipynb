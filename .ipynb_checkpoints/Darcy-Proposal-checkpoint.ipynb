{
 "cells": [
  {
   "cell_type": "markdown",
   "metadata": {},
   "source": [
    "$\\newcommand{\\xv}{\\mathbf{x}}\n",
    "\\newcommand{\\Xv}{\\mathbf{X}}\n",
    "\\newcommand{\\yv}{\\mathbf{y}}\n",
    "\\newcommand{\\zv}{\\mathbf{z}}\n",
    "\\newcommand{\\av}{\\mathbf{a}}\n",
    "\\newcommand{\\Wv}{\\mathbf{W}}\n",
    "\\newcommand{\\wv}{\\mathbf{w}}\n",
    "\\newcommand{\\tv}{\\mathbf{t}}\n",
    "\\newcommand{\\Tv}{\\mathbf{T}}\n",
    "\\newcommand{\\muv}{\\boldsymbol{\\mu}}\n",
    "\\newcommand{\\sigmav}{\\boldsymbol{\\sigma}}\n",
    "\\newcommand{\\phiv}{\\boldsymbol{\\phi}}\n",
    "\\newcommand{\\Phiv}{\\boldsymbol{\\Phi}}\n",
    "\\newcommand{\\Sigmav}{\\boldsymbol{\\Sigma}}\n",
    "\\newcommand{\\Lambdav}{\\boldsymbol{\\Lambda}}\n",
    "\\newcommand{\\half}{\\frac{1}{2}}\n",
    "\\newcommand{\\argmax}[1]{\\underset{#1}{\\operatorname{argmax}}}\n",
    "\\newcommand{\\argmin}[1]{\\underset{#1}{\\operatorname{argmin}}}$"
   ]
  },
  {
   "cell_type": "markdown",
   "metadata": {},
   "source": [
    "# Project Proposal"
   ]
  },
  {
   "cell_type": "markdown",
   "metadata": {},
   "source": [
    "Bruce Darcy"
   ]
  },
  {
   "cell_type": "markdown",
   "metadata": {},
   "source": [
    "## Introduction"
   ]
  },
  {
   "cell_type": "markdown",
   "metadata": {},
   "source": [
    "Summarize the following:\n",
    "\n",
    "  * the AI problem you will address, any code you will borrow or write, data that you will use, and the questions about the problem you will try to answer,\n",
    "  \n",
    "I plan to work with GANs, Generative Adverserial Neural Networks. Specifically the hyperGAN open source package. I plan to work with different network archeticures and image data sets to try to see how the limits of the concept can be pushed.\n",
    "  \n",
    "  \n",
    "  \n",
    "  * the AI algorithms you will use and how they will be applied to answer your questions,\n",
    "I will be using generative adverserial neural networks.\n",
    "  * questions about the algorithm you will try to answer,\n",
    "What layers work best? Does the optimal layers depend on the data set? Do some data sets work better than others?\n",
    "  * why you are interested in the AI algorithm,\n",
    "I started working with this package at the end of last spring on a personal project, and I wasn't able to get it working as well I wanted too, so I want to play with it more.\n",
    "  * members of your team, if more than just you."
   ]
  },
  {
   "cell_type": "markdown",
   "metadata": {},
   "source": [
    "## Methods"
   ]
  },
  {
   "cell_type": "markdown",
   "metadata": {},
   "source": [
    "I'm going to go and find as many image datasets from the internet as I can, and learn to tweak the networks inside the two hypergan neural networks.\n",
    "\n",
    "The source codes comes from the Hypergan repository, https://github.com/HyperGAN/HyperGAN.\n",
    "\n"
   ]
  },
  {
   "cell_type": "markdown",
   "metadata": {},
   "source": [
    "## Possible Results\n",
    "\n",
    "\n",
    "I expect that some image datasets will be easier to reproduce, or at least easier to make a human think that they seem more real. I also expect that whatever the programmers of hypergan have decided to use as their default layer structure will be very good, I may only find 1 or 2 better for specific problems if I find any at all.\n",
    "\n",
    "\n",
    "\n",
    "Speculate on possible answers to the questions you provide in the Introduction."
   ]
  },
  {
   "cell_type": "markdown",
   "metadata": {},
   "source": [
    "## Timeline\n",
    "\n",
    "Nov 14: Have hypergan installed and working on a machine.\n",
    "\n",
    "Nov 16: Have at least 2 or 3 datasets of images to train on.\n",
    "\n",
    "Nov 30: Have used some different network structures in the GAN\n",
    "\n",
    "Dec 7: Have some comparisons done between different networks and datasets.\n",
    "\n",
    "Dec 11: Have report written and done.\n"
   ]
  },
  {
   "cell_type": "code",
   "execution_count": null,
   "metadata": {
    "collapsed": true
   },
   "outputs": [],
   "source": []
  }
 ],
 "metadata": {
  "kernelspec": {
   "display_name": "Python 3",
   "language": "python",
   "name": "python3"
  },
  "language_info": {
   "codemirror_mode": {
    "name": "ipython",
    "version": 3
   },
   "file_extension": ".py",
   "mimetype": "text/x-python",
   "name": "python",
   "nbconvert_exporter": "python",
   "pygments_lexer": "ipython3",
   "version": "3.6.3"
  }
 },
 "nbformat": 4,
 "nbformat_minor": 1
}
