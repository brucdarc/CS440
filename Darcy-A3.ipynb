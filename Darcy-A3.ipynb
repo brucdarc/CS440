{
 "cells": [
  {
   "cell_type": "markdown",
   "metadata": {},
   "source": [
    "# A3: A\\*, IDS, and Effective Branching Factor"
   ]
  },
  {
   "cell_type": "markdown",
   "metadata": {},
   "source": [
    "For this assignment, implement the Recursive Best-First Search\n",
    "implementation of the A\\* algorithm given in class.  Name this function `aStarSearch`.  Also in this notebook include your `iterativeDeepeningSearch` functions.  Define a new function named `ebf` that returns an estimate of the effective\n",
    "branching factor for a search algorithm applied to a search problem.\n",
    "\n",
    "So, the required functions are\n",
    "\n",
    "   - `aStarSearch(startState, actionsF, takeActionF, goalTestF, hF)`\n",
    "   - `iterativeDeepeningSearch(startState, goalState, actionsF, takeActionF, maxDepth)`\n",
    "   - `ebf(nNodes, depth, precision=0.01)`, returns the effective branching factor, given the number of nodes expanded and depth reached during a search.\n",
    "\n",
    "Apply `iterativeDeepeningSearch` and `aStarSearch` to several eight-tile sliding puzzle\n",
    "problems. For this you must include your implementations of these functions, from Assignment 2:\n",
    "\n",
    "  * `actionsF_8p(state)`: returns a list of up to four valid actions that can be applied in `state`. With each action include a step cost of 1. For example, if all four actions are possible from this state, return [('left', 1), ('right', 1), ('up', 1), ('down', 1)].\n",
    "  * `takeActionF_8p(state, action)`: return the state that results from applying `action` in `state` and the cost of the one step,\n",
    "  \n",
    "plus the following function for the eight-tile puzzle:\n",
    "\n",
    "  * `goalTestF_8p(state, goal)`\n",
    "  \n",
    "Compare their results by displayng\n",
    "solution path depth, number of nodes \n",
    "generated, and the effective branching factor, and discuss the results.  Do this by defining the following function that prints the table as shown in the example below.\n",
    "\n",
    "   - runExperiment(goalState1, goalState2, goalState3, [h1, h2, h3])\n",
    "   \n",
    "Define this function so it takes any number of $h$ functions in the list that is the fourth argument."
   ]
  },
  {
   "cell_type": "markdown",
   "metadata": {},
   "source": [
    "## Heuristic Functions\n",
    "\n",
    "For `aStarSearch` use the following two heuristic functions, plus one more of your own design, for a total of three heuristic functions.\n",
    "\n",
    "  * `h1_8p(state, goal)`: $h(state, goal) = 0$, for all states $state$ and all goal states $goal$,\n",
    "  * `h2_8p(state, goal)`: $h(state, goal) = m$, where $m$ is the Manhattan distance that the blank is from its goal position,\n",
    "  * `h3_8p(state, goal)`: $h(state, goal) = ?$, that you define.  It must be admissible, and not constant for all states."
   ]
  },
  {
   "cell_type": "markdown",
   "metadata": {},
   "source": [
    "## Comparison"
   ]
  },
  {
   "cell_type": "markdown",
   "metadata": {},
   "source": [
    "Apply all four algorithms (`iterativeDeepeningSearch` plus `aStarSearch` with the three heuristic\n",
    "functions) to three eight-tile puzzle problems with start state\n",
    "\n",
    "$$\n",
    "\\begin{array}{ccc}\n",
    "1 & 2 & 3\\\\\n",
    "4 & 0 & 5\\\\\n",
    "6 & 7 & 8\n",
    "\\end{array}\n",
    "$$\n",
    "\n",
    "and these three goal states.\n",
    "\n",
    "$$\n",
    "\\begin{array}{ccccccccccc}\n",
    "1 & 2 & 3  & ~~~~ & 1 & 2 & 3  &  ~~~~ & 1 & 0 &  3\\\\\n",
    "4 & 0 & 5  & & 4 & 5 & 8  & & 4 & 5 & 8\\\\\n",
    "6 & 7 & 8 &  & 6 & 0 & 7  & & 2 & 6 & 7\n",
    "\\end{array}\n",
    "$$"
   ]
  },
  {
   "cell_type": "markdown",
   "metadata": {},
   "source": [
    "Print a well-formatted table like the following.  Try to match this\n",
    "format. If you have time, you might consider learning a bit about the `DataFrame` class in the `pandas` package.  When displayed in jupyter notebooks, `pandas.DataFrame` objects are nicely formatted in html.\n",
    "\n",
    "           [1, 2, 3, 4, 0, 5, 6, 7, 8]    [1, 2, 3, 4, 5, 8, 6, 0, 7]    [1, 0, 3, 4, 5, 8, 2, 6, 7] \n",
    "    Algorithm    Depth  Nodes  EBF              Depth  Nodes  EBF              Depth  Nodes  EBF          \n",
    "         IDS       0      0  0.000                3     43  3.086               11 225850  2.954         \n",
    "        A*h1       0      0  0.000                3    116  4.488               11 643246  3.263         \n",
    "        A*h2       0      0  0.000                3     51  3.297               11 100046  2.733         \n",
    "\n",
    "Of course you will have one more line for `h3`."
   ]
  },
  {
   "cell_type": "markdown",
   "metadata": {},
   "source": [
    "Insert your functions here."
   ]
  },
  {
   "cell_type": "code",
   "execution_count": null,
   "metadata": {
    "collapsed": true
   },
   "outputs": [],
   "source": [
    "# from A3mysolution import *"
   ]
  },
  {
   "cell_type": "code",
   "execution_count": null,
   "metadata": {
    "collapsed": true
   },
   "outputs": [],
   "source": []
  },
  {
   "cell_type": "markdown",
   "metadata": {},
   "source": [
    "First, some example output for the ebf function.  During execution, this example shows debugging output which is the low and high values passed into a recursive helper function."
   ]
  },
  {
   "cell_type": "markdown",
   "metadata": {},
   "source": [
    "Here are my iterative deepening and depthlimited\n",
    "from the last project. The equals condition in depthlimited will be changed"
   ]
  },
  {
   "cell_type": "code",
   "execution_count": null,
   "metadata": {
    "collapsed": true
   },
   "outputs": [],
   "source": [
    "def depthLimitedSearch(startState, goalState, actionsF, takeActionF, depthLimit):\n",
    "    #np array is dumb and compares element by element with ==\n",
    "    n = Node(0,0,0,0)\n",
    "    if goalState == startState: return []\n",
    "    \n",
    "    #stop recursing if at depth limit\n",
    "    #dont use is because it compares references not values.\n",
    "    if depthLimit == 0: return 'cutoff'\n",
    "    cutoffOccurred = False\n",
    "    \n",
    "    for action in actionsF(startState):\n",
    "        #n = Node(0,0,0,0)\n",
    "        childState = takeActionF(startState, action)\n",
    "        result = depthLimitedSearch(childState[0], goalState, actionsF, takeActionF, depthLimit-1)\n",
    "        if result == 'cutoff': cutoffOccurred = True\n",
    "        elif result != 'failure':\n",
    "            result.insert(0,childState[0])\n",
    "            return result\n",
    "    if cutoffOccurred: return 'cutoff'\n",
    "    else: return 'failure'"
   ]
  },
  {
   "cell_type": "code",
   "execution_count": null,
   "metadata": {
    "collapsed": true
   },
   "outputs": [],
   "source": [
    "def iterativeDeepeningSearch(startState, goalState, actionsF, takeActionF, maxDepth):\n",
    "    for depth in range(maxDepth):\n",
    "        #print(depth)\n",
    "        result = depthLimitedSearch(startState, goalState, actionsF, takeActionF, depth)\n",
    "        if result == 'failure': return failure\n",
    "        if result != 'cutoff':\n",
    "            result.insert(0,startState)\n",
    "            return result\n",
    "    return 'cutoff'\n",
    "    \n",
    "    "
   ]
  },
  {
   "cell_type": "markdown",
   "metadata": {},
   "source": [
    " Now for A*"
   ]
  },
  {
   "cell_type": "code",
   "execution_count": null,
   "metadata": {
    "collapsed": true
   },
   "outputs": [],
   "source": [
    "\n",
    "class Node:\n",
    "    numNodes = 0\n",
    "    def __init__(self, state, f=0, g=0 ,h=0):\n",
    "        self.state = state\n",
    "        self.f = f\n",
    "        self.g = g\n",
    "        self.h = h\n",
    "        Node.numNodes += 1\n",
    "    def __repr__(self):\n",
    "        return \"Node(\" + repr(self.state) + \", f=\" + repr(self.f) + \\\n",
    "               \", g=\" + repr(self.g) + \", h=\" + repr(self.h) + \")\"\n",
    "        \n",
    "    def getNumInstances():\n",
    "        return Node.numNodes\n",
    "    def resetNumInstances():\n",
    "        Node.numNodes = 0"
   ]
  },
  {
   "cell_type": "code",
   "execution_count": null,
   "metadata": {
    "collapsed": true
   },
   "outputs": [],
   "source": [
    "def aStarSearch(startState, actionsF, takeActionF, goalTestF, hF):\n",
    "    h = hF(startState)\n",
    "    startNode = Node(startState, h, 0, h)\n",
    "    return aStarSearchHelper(startNode, actionsF, takeActionF, goalTestF, hF, float('inf'))"
   ]
  },
  {
   "cell_type": "code",
   "execution_count": null,
   "metadata": {
    "collapsed": true
   },
   "outputs": [],
   "source": [
    "def aStarSearchHelper(parentNode, actionsF, takeActionF, goalTestF, hF, fmax):\n",
    "    if goalTestF(parentNode.state):\n",
    "        return ([parentNode.state], parentNode.g)\n",
    "    ## Construct list of children nodes with f, g, and h values\n",
    "    actions = actionsF(parentNode.state)\n",
    "    if not actions:\n",
    "        return (\"failure\", float('inf'))\n",
    "    children = []\n",
    "    for action in actions:\n",
    "        (childState,stepCost) = takeActionF(parentNode.state, action)\n",
    "        h = hF(childState)\n",
    "        g = parentNode.g + stepCost\n",
    "        f = max(h+g, parentNode.f)\n",
    "        childNode = Node(childState, f, g, h)\n",
    "        children.append(childNode)\n",
    "    while True:\n",
    "        # find best child\n",
    "        children.sort(key = lambda n: n.f) # sort by f value\n",
    "        bestChild = children[0]\n",
    "        if bestChild.f > fmax:\n",
    "            return (\"failure\",bestChild.f)\n",
    "        # next lowest f value\n",
    "        alternativef = children[1].f if len(children) > 1 else float('inf')\n",
    "        # expand best child, reassign its f value to be returned value\n",
    "        result,bestChild.f = aStarSearchHelper(bestChild, actionsF, takeActionF, goalTestF,\n",
    "                                            hF, min(fmax,alternativef))\n",
    "        if result is not \"failure\":               #        g\n",
    "            result.insert(0,parentNode.state)     #       / \n",
    "            return (result, bestChild.f)  \n",
    "    "
   ]
  },
  {
   "cell_type": "markdown",
   "metadata": {},
   "source": [
    "# simple rewrites of the actions related functions to use slightly different datatypes with step cost for actions"
   ]
  },
  {
   "cell_type": "code",
   "execution_count": null,
   "metadata": {
    "collapsed": true
   },
   "outputs": [],
   "source": [
    "import numpy as np\n",
    "from copy import copy, deepcopy"
   ]
  },
  {
   "cell_type": "code",
   "execution_count": null,
   "metadata": {
    "collapsed": true
   },
   "outputs": [],
   "source": [
    "def findBlank_8p(state):\n",
    "    for i in range(0,9):\n",
    "        if state[i] == 0: \n",
    "            return (int(i/3), i%3)\n",
    "    "
   ]
  },
  {
   "cell_type": "markdown",
   "metadata": {},
   "source": [
    "New actionsF_8p with step costs also returned"
   ]
  },
  {
   "cell_type": "code",
   "execution_count": null,
   "metadata": {
    "collapsed": true
   },
   "outputs": [],
   "source": [
    "#returns list of all valid actions given a certain state\n",
    "def actionsF_8p(state):\n",
    "    actions = []\n",
    "    position = findBlank_8p(state)\n",
    "    if position[1] != 2: actions.append( ('left', 1) )\n",
    "    if position[1] != 0: actions.append( ('right', 1) )\n",
    "    if position[0] != 0: actions.append( ('up', 1) )\n",
    "    if position[0] != 2: actions.append( ('down', 1) )\n",
    "    \n",
    "    \n",
    "    return actions\n",
    "  "
   ]
  },
  {
   "cell_type": "markdown",
   "metadata": {},
   "source": [
    "New takeActionF_8p"
   ]
  },
  {
   "cell_type": "code",
   "execution_count": null,
   "metadata": {
    "collapsed": true
   },
   "outputs": [],
   "source": [
    "#A and B are lists that contain the i,j positions of the things that need to be swapped\n",
    "def swap_8p(A,B,state):\n",
    "    temp = state[A]\n",
    "    state[A] = state[B]\n",
    "    state[B] = temp"
   ]
  },
  {
   "cell_type": "code",
   "execution_count": null,
   "metadata": {
    "collapsed": true
   },
   "outputs": [],
   "source": [
    "def takeActionF_8p(state, action):\n",
    "    a, b = findBlank_8p(state)\n",
    "    blank = a*3 + b\n",
    "    resultState = copy(state)\n",
    "    if action[0] == 'down': \n",
    "        swap_8p(blank,blank+3,resultState)\n",
    "    if action[0] == 'up': \n",
    "        swap_8p(blank,blank-3,resultState)\n",
    "    if action[0] == 'left': \n",
    "        swap_8p(blank,blank+1,resultState)\n",
    "    if action[0] == 'right': \n",
    "        swap_8p(blank,blank-1,resultState)\n",
    "    return (resultState,1)\n",
    "        "
   ]
  },
  {
   "cell_type": "markdown",
   "metadata": {},
   "source": [
    "New goalTestF_8p"
   ]
  },
  {
   "cell_type": "code",
   "execution_count": null,
   "metadata": {
    "collapsed": true
   },
   "outputs": [],
   "source": [
    "def goalTestF_8p(state, goalState):\n",
    "    #goalState = [1,2,3,4,0,5,6,7,8]\n",
    "    if state == goalState: return True\n",
    "    return False\n"
   ]
  },
  {
   "cell_type": "markdown",
   "metadata": {},
   "source": []
  },
  {
   "cell_type": "code",
   "execution_count": null,
   "metadata": {},
   "outputs": [],
   "source": [
    "def ebf(nNodes, depth, precision=0.01):\n",
    "    if(depth == 0): return nNodes\n",
    "    if nNodes == depth: return 1\n",
    "    if(nNodes ==0) : return 0\n",
    "    return ebfHelper(nNodes, depth, 1, nNodes, precision)"
   ]
  },
  {
   "cell_type": "code",
   "execution_count": null,
   "metadata": {
    "collapsed": true
   },
   "outputs": [],
   "source": [
    "def ebfHelper(nNodes, depth, low, high, precision):\n",
    "    branch_guess = (high-low)/2 + low\n",
    "    #print(\"branch guess: \" + str(branch_guess))\n",
    "    predicted_nodes = 1\n",
    "    current = 1\n",
    "    for x in range(0,depth):       \n",
    "        current *= branch_guess\n",
    "        predicted_nodes += current\n",
    "        #print(str(predicted_nodes) + \" : depth : \" + str(x))\n",
    "    \n",
    "    \n",
    "    #print( \"predicted_nodes: \" + str(predicted_nodes))\n",
    "    if abs(predicted_nodes-nNodes) < precision: return branch_guess\n",
    "    \n",
    "    if predicted_nodes > nNodes: return ebfHelper(nNodes, depth, low, branch_guess, precision)\n",
    "    else: return ebfHelper(nNodes, depth, branch_guess, high, precision)\n",
    "    "
   ]
  },
  {
   "cell_type": "code",
   "execution_count": null,
   "metadata": {
    "scrolled": true
   },
   "outputs": [],
   "source": [
    "ebf(4,3)"
   ]
  },
  {
   "cell_type": "markdown",
   "metadata": {},
   "source": []
  },
  {
   "cell_type": "code",
   "execution_count": null,
   "metadata": {
    "collapsed": true
   },
   "outputs": [],
   "source": [
    "def h1_8p(state, goal): \n",
    "    return 0"
   ]
  },
  {
   "cell_type": "code",
   "execution_count": null,
   "metadata": {
    "collapsed": true
   },
   "outputs": [],
   "source": [
    "def h2_8p(state, goal): \n",
    "    start_blank = findBlank_8p(state)\n",
    "    goal_blank = findBlank_8p(goal)\n",
    "    horizontal_start = start_blank[0]\n",
    "    vertical_start = start_blank[1]\n",
    "    horizontal_goal = goal_blank[0]\n",
    "    vertical_goal = goal_blank[1]\n",
    "    horz_dist = abs(horizontal_start - horizontal_goal)\n",
    "    vert_dist = abs(vertical_start - vertical_goal)\n",
    "    return horz_dist + vert_dist\n",
    "    "
   ]
  },
  {
   "cell_type": "markdown",
   "metadata": {},
   "source": [
    "# My heristic function"
   ]
  },
  {
   "cell_type": "code",
   "execution_count": null,
   "metadata": {},
   "outputs": [],
   "source": [
    "def h3_8p(state, goal):\n",
    "    value = 0\n",
    "    for x in range(0,9):\n",
    "        if state[x] != goal[x]: value += 1\n",
    "    if value>0: value -= 1\n",
    "    return value"
   ]
  },
  {
   "cell_type": "markdown",
   "metadata": {},
   "source": [
    "The function considers the whole board, and returns a cost equal to the number of elements out of place minus 1. This is admissible because in any given state, you can change the position of two things including the blank. Because the blank can only be put into the right state once and that it must be involved in every swap, an action can get the blank and 1 other into the correct place, or 1 element into the correct place. Therefore the minimum moves by this logic if we know a certain number of elements are out of place is the number of elements minus 1.\n",
    "\n",
    "This works well because it considers the position of the whole board, not just one piece."
   ]
  },
  {
   "cell_type": "code",
   "execution_count": null,
   "metadata": {},
   "outputs": [],
   "source": [
    "startState = [1,1,3,4,5,8,6,0,7]\n",
    "goalState = [1,0,2,3,4,5,6,7,8]\n",
    "h2_8p(startState,goalState)"
   ]
  },
  {
   "cell_type": "markdown",
   "metadata": {},
   "source": [
    "# I used the node class constructor to count the number of nodes, it increments 1 for each one created, and has a method to reset the count."
   ]
  },
  {
   "cell_type": "code",
   "execution_count": 177,
   "metadata": {
    "collapsed": true
   },
   "outputs": [],
   "source": [
    "startState = [1,2,3,4,5,8,6,0,7]\n",
    "\n",
    "goalState = [1,0,3,4,5,8,2,6,7]\n",
    "#result = iterativeDeepeningSearch(startState, goalState, actionsF_8p, takeActionF_8p, 15)\n",
    "#for step in result: print(step)\n",
    "#Node.resetNumInstances()"
   ]
  },
  {
   "cell_type": "code",
   "execution_count": 179,
   "metadata": {},
   "outputs": [
    {
     "name": "stdout",
     "output_type": "stream",
     "text": [
      "([[1, 2, 3, 4, 5, 8, 6, 0, 7], [1, 2, 3, 4, 0, 8, 6, 5, 7], [1, 0, 3, 4, 2, 8, 6, 5, 7], [0, 1, 3, 4, 2, 8, 6, 5, 7], [4, 1, 3, 0, 2, 8, 6, 5, 7], [4, 1, 3, 2, 0, 8, 6, 5, 7], [4, 1, 3, 2, 5, 8, 6, 0, 7], [4, 1, 3, 2, 5, 8, 0, 6, 7], [4, 1, 3, 0, 5, 8, 2, 6, 7], [0, 1, 3, 4, 5, 8, 2, 6, 7], [1, 0, 3, 4, 5, 8, 2, 6, 7]], 10)\n"
     ]
    },
    {
     "data": {
      "text/plain": [
       "106828"
      ]
     },
     "execution_count": 179,
     "metadata": {},
     "output_type": "execute_result"
    }
   ],
   "source": [
    "result = aStarSearch(startState, actionsF_8p, takeActionF_8p, lambda s: goalTestF_8p(s,goalState), lambda s: h1_8p(s,goalState))\n",
    "print(result)\n",
    "Node.getNumInstances()"
   ]
  },
  {
   "cell_type": "code",
   "execution_count": 181,
   "metadata": {},
   "outputs": [
    {
     "name": "stdout",
     "output_type": "stream",
     "text": [
      "[[1, 2, 3, 4, 5, 8, 6, 0, 7], [1, 2, 3, 4, 0, 8, 6, 5, 7], [1, 0, 3, 4, 2, 8, 6, 5, 7], [0, 1, 3, 4, 2, 8, 6, 5, 7], [4, 1, 3, 0, 2, 8, 6, 5, 7], [4, 1, 3, 2, 0, 8, 6, 5, 7], [4, 1, 3, 2, 5, 8, 6, 0, 7], [4, 1, 3, 2, 5, 8, 0, 6, 7], [4, 1, 3, 0, 5, 8, 2, 6, 7], [0, 1, 3, 4, 5, 8, 2, 6, 7], [1, 0, 3, 4, 5, 8, 2, 6, 7]]\n"
     ]
    },
    {
     "data": {
      "text/plain": [
       "70133"
      ]
     },
     "execution_count": 181,
     "metadata": {},
     "output_type": "execute_result"
    }
   ],
   "source": [
    "\n",
    "result = iterativeDeepeningSearch(startState, goalState, actionsF_8p, takeActionF_8p, 12)\n",
    "print(result)\n",
    "Node.getNumInstances()"
   ]
  },
  {
   "cell_type": "code",
   "execution_count": 180,
   "metadata": {
    "collapsed": true
   },
   "outputs": [],
   "source": [
    "Node.resetNumInstances()"
   ]
  },
  {
   "cell_type": "code",
   "execution_count": null,
   "metadata": {
    "scrolled": true
   },
   "outputs": [],
   "source": [
    "Node.getNumInstances()"
   ]
  },
  {
   "cell_type": "markdown",
   "metadata": {},
   "source": [
    "end tests"
   ]
  },
  {
   "cell_type": "code",
   "execution_count": 183,
   "metadata": {
    "scrolled": false
   },
   "outputs": [
    {
     "data": {
      "text/html": [
       "<div>\n",
       "<style scoped>\n",
       "    .dataframe tbody tr th:only-of-type {\n",
       "        vertical-align: middle;\n",
       "    }\n",
       "\n",
       "    .dataframe tbody tr th {\n",
       "        vertical-align: top;\n",
       "    }\n",
       "\n",
       "    .dataframe thead tr th {\n",
       "        text-align: left;\n",
       "    }\n",
       "</style>\n",
       "<table border=\"1\" class=\"dataframe\">\n",
       "  <thead>\n",
       "    <tr>\n",
       "      <th></th>\n",
       "      <th colspan=\"3\" halign=\"left\">[1,2,3,4,5,6,7,8,0]</th>\n",
       "      <th colspan=\"3\" halign=\"left\">[1,2,3,4,5,6,7,8,2]</th>\n",
       "    </tr>\n",
       "    <tr>\n",
       "      <th></th>\n",
       "      <th>Depth</th>\n",
       "      <th>Nodes</th>\n",
       "      <th>EBF</th>\n",
       "      <th>Depth</th>\n",
       "      <th>Nodes</th>\n",
       "      <th>EBF</th>\n",
       "    </tr>\n",
       "  </thead>\n",
       "  <tbody>\n",
       "    <tr>\n",
       "      <th>IDS</th>\n",
       "      <td>1</td>\n",
       "      <td>2</td>\n",
       "      <td>3</td>\n",
       "      <td>1</td>\n",
       "      <td>2</td>\n",
       "      <td>3</td>\n",
       "    </tr>\n",
       "    <tr>\n",
       "      <th>A*h1</th>\n",
       "      <td>5</td>\n",
       "      <td>6</td>\n",
       "      <td>7</td>\n",
       "      <td>5</td>\n",
       "      <td>6</td>\n",
       "      <td>7</td>\n",
       "    </tr>\n",
       "    <tr>\n",
       "      <th>A*h2</th>\n",
       "      <td>4</td>\n",
       "      <td>5</td>\n",
       "      <td>6</td>\n",
       "      <td>4</td>\n",
       "      <td>5</td>\n",
       "      <td>6</td>\n",
       "    </tr>\n",
       "  </tbody>\n",
       "</table>\n",
       "</div>"
      ],
      "text/plain": [
       "     [1,2,3,4,5,6,7,8,0]           [1,2,3,4,5,6,7,8,2]          \n",
       "                   Depth Nodes EBF               Depth Nodes EBF\n",
       "IDS                    1     2   3                   1     2   3\n",
       "A*h1                   5     6   7                   5     6   7\n",
       "A*h2                   4     5   6                   4     5   6"
      ]
     },
     "execution_count": 183,
     "metadata": {},
     "output_type": "execute_result"
    }
   ],
   "source": [
    "import pandas as pd\n",
    "from numpy import transpose\n",
    "import time\n",
    "data = [[1,2,3],[5,6,7],[4,5,6]]\n",
    "columns = [\"Depth\", \"Nodes\",\"EBF\"]\n",
    "df1 = pd.DataFrame(data,columns=columns,index=[\"IDS\",\"A*h1\",\"A*h2\"])\n",
    "\n",
    "\n",
    "\n",
    "\n",
    "\n",
    "df2 = pd.DataFrame(data,columns=columns,index=[\"IDS\",\"A*h1\",\"A*h2\"])\n",
    "frames = {'[1,2,3,4,5,6,7,8,0]': df1, '[1,2,3,4,5,6,7,8,2]': df2}\n",
    "result = pd.concat(frames, axis  =1)\n",
    "\n",
    "\n",
    "\n",
    "result"
   ]
  },
  {
   "cell_type": "markdown",
   "metadata": {},
   "source": [
    "Here I was experimenting with dataframes and getting them to look nice"
   ]
  },
  {
   "cell_type": "code",
   "execution_count": 185,
   "metadata": {
    "collapsed": true
   },
   "outputs": [],
   "source": [
    "def runExperiment(goalState1,goalState2,goalState3,heristics):\n",
    "    df1 = runExperimentHelper(goalState1, goalState1,heristics)\n",
    "    df2 =runExperimentHelper(goalState1, goalState2,heristics)\n",
    "    df3 =runExperimentHelper(goalState1, goalState3,heristics)\n",
    "    print(df1)\n",
    "    frames = {str(goalState1): df1, str(goalState2): df2, str(goalState3): df3}\n",
    "    return pd.concat(frames,axis=1)"
   ]
  },
  {
   "cell_type": "code",
   "execution_count": 186,
   "metadata": {},
   "outputs": [],
   "source": [
    "def runExperimentHelper(startState, goalState,heristics):\n",
    "    cols = [\"Depth\", \"Nodes\",\"EBF\",\"Time\"]\n",
    "    rows = [\"IDS\",\"A*h1\",\"A*h2\",\"A*h3\"]\n",
    "    \n",
    "    depths1 = []\n",
    "    nodes1 = []\n",
    "    ebf1 = []\n",
    "    times = []\n",
    "    Node.resetNumInstances()\n",
    "    \n",
    "    \n",
    "    start_time = time.time()\n",
    "\n",
    "    resultIDS_1 = iterativeDeepeningSearch(startState, goalState, actionsF_8p, takeActionF_8p, 25)\n",
    "    depths1.append(len(resultIDS_1)-1)\n",
    "    nodes1.append(Node.getNumInstances()-1)\n",
    "    \n",
    "    end_time = time.time()\n",
    "    times.append(end_time - start_time)\n",
    "    \n",
    "    for heristic in heristics:\n",
    "        start_time = time.time()\n",
    "        \n",
    "        Node.resetNumInstances()\n",
    "        result = aStarSearch(startState, actionsF_8p, takeActionF_8p, lambda s: goalTestF_8p(s,goalState), lambda s: heristic(s,goalState))\n",
    "        depths1.append(len(result[0])-1)\n",
    "        nodes1.append(Node.getNumInstances()-1)\n",
    "     \n",
    "        end_time = time.time()\n",
    "        times.append(end_time - start_time)\n",
    "    \n",
    "    for x in range(0,4):\n",
    "        ebf1.append(ebf(nodes1[x],depths1[x]))\n",
    "    \n",
    "    \n",
    "    \n",
    "    data = [depths1,nodes1,ebf1,times]\n",
    "    data = transpose(data)\n",
    "    #print(data)\n",
    "    df = pd.DataFrame(data,columns=cols,index=rows)\n",
    "    \n",
    "    return df\n",
    "    \n",
    "    \n",
    "    \n",
    "    #print(ebf1)\n",
    "    #print(depths1)\n",
    "    #print(nodes1)    "
   ]
  },
  {
   "cell_type": "code",
   "execution_count": 187,
   "metadata": {},
   "outputs": [
    {
     "name": "stdout",
     "output_type": "stream",
     "text": [
      "      Depth  Nodes  EBF      Time\n",
      "IDS     0.0    0.0  0.0  0.000013\n",
      "A*h1    0.0    0.0  0.0  0.000015\n",
      "A*h2    0.0    0.0  0.0  0.000016\n",
      "A*h3    0.0    0.0  0.0  0.000009\n"
     ]
    },
    {
     "data": {
      "text/html": [
       "<div>\n",
       "<style scoped>\n",
       "    .dataframe tbody tr th:only-of-type {\n",
       "        vertical-align: middle;\n",
       "    }\n",
       "\n",
       "    .dataframe tbody tr th {\n",
       "        vertical-align: top;\n",
       "    }\n",
       "\n",
       "    .dataframe thead tr th {\n",
       "        text-align: left;\n",
       "    }\n",
       "</style>\n",
       "<table border=\"1\" class=\"dataframe\">\n",
       "  <thead>\n",
       "    <tr>\n",
       "      <th></th>\n",
       "      <th colspan=\"4\" halign=\"left\">[1, 0, 3, 4, 5, 8, 2, 6, 7]</th>\n",
       "      <th colspan=\"4\" halign=\"left\">[1, 2, 3, 4, 0, 5, 6, 7, 8]</th>\n",
       "      <th colspan=\"4\" halign=\"left\">[1, 2, 3, 4, 5, 8, 6, 0, 7]</th>\n",
       "    </tr>\n",
       "    <tr>\n",
       "      <th></th>\n",
       "      <th>Depth</th>\n",
       "      <th>Nodes</th>\n",
       "      <th>EBF</th>\n",
       "      <th>Time</th>\n",
       "      <th>Depth</th>\n",
       "      <th>Nodes</th>\n",
       "      <th>EBF</th>\n",
       "      <th>Time</th>\n",
       "      <th>Depth</th>\n",
       "      <th>Nodes</th>\n",
       "      <th>EBF</th>\n",
       "      <th>Time</th>\n",
       "    </tr>\n",
       "  </thead>\n",
       "  <tbody>\n",
       "    <tr>\n",
       "      <th>IDS</th>\n",
       "      <td>11.0</td>\n",
       "      <td>237955.0</td>\n",
       "      <td>2.968622</td>\n",
       "      <td>1.633952</td>\n",
       "      <td>0.0</td>\n",
       "      <td>0.0</td>\n",
       "      <td>0.0</td>\n",
       "      <td>0.000013</td>\n",
       "      <td>3.0</td>\n",
       "      <td>34.0</td>\n",
       "      <td>2.813751</td>\n",
       "      <td>0.000242</td>\n",
       "    </tr>\n",
       "    <tr>\n",
       "      <th>A*h1</th>\n",
       "      <td>11.0</td>\n",
       "      <td>678427.0</td>\n",
       "      <td>3.279251</td>\n",
       "      <td>6.548479</td>\n",
       "      <td>0.0</td>\n",
       "      <td>0.0</td>\n",
       "      <td>0.0</td>\n",
       "      <td>0.000015</td>\n",
       "      <td>3.0</td>\n",
       "      <td>57.0</td>\n",
       "      <td>3.440430</td>\n",
       "      <td>0.000587</td>\n",
       "    </tr>\n",
       "    <tr>\n",
       "      <th>A*h2</th>\n",
       "      <td>11.0</td>\n",
       "      <td>82006.0</td>\n",
       "      <td>2.680914</td>\n",
       "      <td>1.007163</td>\n",
       "      <td>0.0</td>\n",
       "      <td>0.0</td>\n",
       "      <td>0.0</td>\n",
       "      <td>0.000016</td>\n",
       "      <td>3.0</td>\n",
       "      <td>36.0</td>\n",
       "      <td>2.877747</td>\n",
       "      <td>0.000470</td>\n",
       "    </tr>\n",
       "    <tr>\n",
       "      <th>A*h3</th>\n",
       "      <td>11.0</td>\n",
       "      <td>5543.0</td>\n",
       "      <td>2.061282</td>\n",
       "      <td>0.066868</td>\n",
       "      <td>0.0</td>\n",
       "      <td>0.0</td>\n",
       "      <td>0.0</td>\n",
       "      <td>0.000009</td>\n",
       "      <td>3.0</td>\n",
       "      <td>9.0</td>\n",
       "      <td>1.578125</td>\n",
       "      <td>0.000120</td>\n",
       "    </tr>\n",
       "  </tbody>\n",
       "</table>\n",
       "</div>"
      ],
      "text/plain": [
       "     [1, 0, 3, 4, 5, 8, 2, 6, 7]                                \\\n",
       "                           Depth     Nodes       EBF      Time   \n",
       "IDS                         11.0  237955.0  2.968622  1.633952   \n",
       "A*h1                        11.0  678427.0  3.279251  6.548479   \n",
       "A*h2                        11.0   82006.0  2.680914  1.007163   \n",
       "A*h3                        11.0    5543.0  2.061282  0.066868   \n",
       "\n",
       "     [1, 2, 3, 4, 0, 5, 6, 7, 8]                       \\\n",
       "                           Depth Nodes  EBF      Time   \n",
       "IDS                          0.0   0.0  0.0  0.000013   \n",
       "A*h1                         0.0   0.0  0.0  0.000015   \n",
       "A*h2                         0.0   0.0  0.0  0.000016   \n",
       "A*h3                         0.0   0.0  0.0  0.000009   \n",
       "\n",
       "     [1, 2, 3, 4, 5, 8, 6, 0, 7]                            \n",
       "                           Depth Nodes       EBF      Time  \n",
       "IDS                          3.0  34.0  2.813751  0.000242  \n",
       "A*h1                         3.0  57.0  3.440430  0.000587  \n",
       "A*h2                         3.0  36.0  2.877747  0.000470  \n",
       "A*h3                         3.0   9.0  1.578125  0.000120  "
      ]
     },
     "execution_count": 187,
     "metadata": {},
     "output_type": "execute_result"
    }
   ],
   "source": [
    "pdb\n",
    "goalState1 = [1,2,3,4,0,5,6,7,8]\n",
    "goalState2 = [1,2,3,4,5,8,6,0,7]\n",
    "goalState3 = [1,0,3,4,5,8,2,6,7]\n",
    "heristics = [h1_8p,h2_8p,h3_8p]\n",
    "runExperiment(goalState1, goalState2,goalState3,heristics)"
   ]
  },
  {
   "cell_type": "markdown",
   "metadata": {},
   "source": [
    "The results are out of order because of dictionaries, but these are the results. The A(star) with H1 function seems to always be worse than IDS, which makes sense, because A star with a bad heristic function throws away a lot of nodes that IDS doesnt. The H2 function makes A star work a bit better than IDS, and seems to guide the search decently. My heristic function A3 does way better than all of them in each case, which makes sense because it considers the position of the whole board in determining the guess for the state. \n",
    "\n",
    "* I added the timers to time each function, and the times scale with the number of nodes expanded as expected."
   ]
  },
  {
   "cell_type": "code",
   "execution_count": 158,
   "metadata": {},
   "outputs": [
    {
     "data": {
      "text/plain": [
       "1.661376953125"
      ]
     },
     "execution_count": 158,
     "metadata": {},
     "output_type": "execute_result"
    }
   ],
   "source": [
    "ebf(10, 3)"
   ]
  },
  {
   "cell_type": "markdown",
   "metadata": {},
   "source": [
    "The smallest argument values should be a depth of 0, and 1 node."
   ]
  },
  {
   "cell_type": "code",
   "execution_count": 159,
   "metadata": {},
   "outputs": [
    {
     "data": {
      "text/plain": [
       "1"
      ]
     },
     "execution_count": 159,
     "metadata": {},
     "output_type": "execute_result"
    }
   ],
   "source": [
    "ebf(1, 0)"
   ]
  },
  {
   "cell_type": "code",
   "execution_count": 160,
   "metadata": {},
   "outputs": [
    {
     "data": {
      "text/plain": [
       "1.0078125"
      ]
     },
     "execution_count": 160,
     "metadata": {},
     "output_type": "execute_result"
    }
   ],
   "source": [
    "ebf(2, 1)"
   ]
  },
  {
   "cell_type": "code",
   "execution_count": 161,
   "metadata": {},
   "outputs": [
    {
     "data": {
      "text/plain": [
       "1.0000009536743164"
      ]
     },
     "execution_count": 161,
     "metadata": {},
     "output_type": "execute_result"
    }
   ],
   "source": [
    "ebf(2, 1, precision=0.000001)"
   ]
  },
  {
   "cell_type": "code",
   "execution_count": 162,
   "metadata": {},
   "outputs": [
    {
     "data": {
      "text/plain": [
       "11.275596931956898"
      ]
     },
     "execution_count": 162,
     "metadata": {},
     "output_type": "execute_result"
    }
   ],
   "source": [
    "ebf(200000, 5)"
   ]
  },
  {
   "cell_type": "code",
   "execution_count": 163,
   "metadata": {},
   "outputs": [
    {
     "data": {
      "text/plain": [
       "1.2348192492705223"
      ]
     },
     "execution_count": 163,
     "metadata": {},
     "output_type": "execute_result"
    }
   ],
   "source": [
    "ebf(200000, 50)"
   ]
  },
  {
   "cell_type": "markdown",
   "metadata": {},
   "source": [
    "Here is a simple example using our usual simple graph search."
   ]
  },
  {
   "cell_type": "code",
   "execution_count": 164,
   "metadata": {
    "collapsed": true
   },
   "outputs": [],
   "source": [
    "def actionsF_simple(state):\n",
    "    succs = {'a': ['b', 'c'], 'b':['a'], 'c':['h'], 'h':['i'], 'i':['j', 'k', 'l'], 'k':['z']}\n",
    "    return [(s, 1) for s in succs.get(state, [])]\n",
    "\n",
    "def takeActionF_simple(state, action):\n",
    "    return action\n",
    "\n",
    "def goalTestF_simple(state, goal):\n",
    "    return state == goal\n",
    "\n",
    "def h_simple(state, goal):\n",
    "    return 1"
   ]
  },
  {
   "cell_type": "code",
   "execution_count": 165,
   "metadata": {},
   "outputs": [
    {
     "data": {
      "text/plain": [
       "[('b', 1), ('c', 1)]"
      ]
     },
     "execution_count": 165,
     "metadata": {},
     "output_type": "execute_result"
    }
   ],
   "source": [
    "actions = actionsF_simple('a')\n",
    "actions"
   ]
  },
  {
   "cell_type": "code",
   "execution_count": 166,
   "metadata": {},
   "outputs": [
    {
     "data": {
      "text/plain": [
       "('b', 1)"
      ]
     },
     "execution_count": 166,
     "metadata": {},
     "output_type": "execute_result"
    }
   ],
   "source": [
    "takeActionF_simple('a', actions[0])"
   ]
  },
  {
   "cell_type": "code",
   "execution_count": 167,
   "metadata": {},
   "outputs": [
    {
     "data": {
      "text/plain": [
       "True"
      ]
     },
     "execution_count": 167,
     "metadata": {},
     "output_type": "execute_result"
    }
   ],
   "source": [
    "goalTestF_simple('a', 'a')"
   ]
  },
  {
   "cell_type": "code",
   "execution_count": 168,
   "metadata": {},
   "outputs": [
    {
     "data": {
      "text/plain": [
       "1"
      ]
     },
     "execution_count": 168,
     "metadata": {},
     "output_type": "execute_result"
    }
   ],
   "source": [
    "h_simple('a', 'z')"
   ]
  },
  {
   "cell_type": "code",
   "execution_count": 169,
   "metadata": {},
   "outputs": [
    {
     "data": {
      "text/plain": [
       "['a', 'c', 'h', 'i', 'k', 'z']"
      ]
     },
     "execution_count": 169,
     "metadata": {},
     "output_type": "execute_result"
    }
   ],
   "source": [
    "iterativeDeepeningSearch('a', 'z', actionsF_simple, takeActionF_simple, 10)"
   ]
  },
  {
   "cell_type": "code",
   "execution_count": 170,
   "metadata": {},
   "outputs": [
    {
     "data": {
      "text/plain": [
       "(['a', 'c', 'h', 'i', 'k', 'z'], 5)"
      ]
     },
     "execution_count": 170,
     "metadata": {},
     "output_type": "execute_result"
    }
   ],
   "source": [
    "aStarSearch('a',actionsF_simple, takeActionF_simple,\n",
    "            lambda s: goalTestF_simple(s, 'z'),\n",
    "            lambda s: h_simple(s, 'z'))"
   ]
  },
  {
   "cell_type": "markdown",
   "metadata": {},
   "source": [
    "## Grading"
   ]
  },
  {
   "cell_type": "markdown",
   "metadata": {},
   "source": [
    "<font color=\"red\">UPDATED Sept 23</font> Download [A3grader.tar](http://www.cs.colostate.edu/~anderson/cs440/notebooks/A3grader.tar) and extract A3grader.py from it."
   ]
  },
  {
   "cell_type": "code",
   "execution_count": 188,
   "metadata": {},
   "outputs": [
    {
     "name": "stdout",
     "output_type": "stream",
     "text": [
      "\n",
      "======================= Code Execution =======================\n",
      "\n",
      "Extracting python code from notebook named 'Darcy-A3.ipynb' and storing in notebookcode.py\n",
      "Removing all statements that are not function or class defs or import statements.\n",
      "\n",
      "Testing actionsF_8p([1, 2, 3, 4, 5, 6, 7, 0, 8])\n",
      "\n",
      "--- 5/5 points. Your actionsF_8p correctly returned [('left', 1), ('right', 1), ('up', 1)]\n",
      "\n",
      "Testing takeActionF_8p([1, 2, 3, 4, 5, 6, 7, 0, 8], (up, 1))\n",
      "\n",
      "--- 5/5 points. Your takeActionsF_8p correctly returned ([1, 2, 3, 4, 0, 6, 7, 5, 8], 1)\n",
      "\n",
      "Testing goalTestF_8p([1, 2, 3, 4, 5, 6, 7, 0, 8], [1, 2, 3, 4, 5, 6, 7, 0, 8])\n",
      "\n",
      "--- 5/5 points. Your goalTestF_8p correctly True\n",
      "\n",
      "Testing aStarSearch(1, 2, 3, 4, 5, 6, 7, 0, 8],\n",
      "                     actionsF_8p, takeActionF_8p,\n",
      "                     lambda s: goalTestF_8p(s, [0, 2, 3, 1, 4,  6, 7, 5, 8]),\n",
      "                     lambda s: h1_8p(s, [0, 2, 3, 1, 4,  6, 7, 5, 8]))\n",
      "\n",
      "--- 20/20 points. Your search correctly returned ([[1, 2, 3, 4, 5, 6, 7, 0, 8], [1, 2, 3, 4, 0, 6, 7, 5, 8], [1, 2, 3, 0, 4, 6, 7, 5, 8], [0, 2, 3, 1, 4, 6, 7, 5, 8]], 3)\n",
      "\n",
      "Testing iterativeDeepeningSearch([1, 2, 3, 4, 5, 6, 7, 0, 8], \n",
      "                                 [0, 2, 3, 1, 4,  6, 7, 5, 8],\n",
      "                                 actionsF_8p, takeActionF_8p, 10)\n",
      "\n",
      "--- 15/15 points. Your search correctly returned [[1, 2, 3, 4, 5, 6, 7, 0, 8], [1, 2, 3, 4, 0, 6, 7, 5, 8], [1, 2, 3, 0, 4, 6, 7, 5, 8], [0, 2, 3, 1, 4, 6, 7, 5, 8]]\n",
      "\n",
      "Testing iterativeDeepeningSearch([5, 2, 8, 0, 1, 4, 3, 7, 6], \n",
      "                                 [0, 2, 3, 1, 4,  6, 7, 5, 8],\n",
      "                                 actionsF_8p, takeActionF_8p, 10)\n",
      "\n",
      "--- 15/15 points. Your search correctly returned cutoff\n",
      "\n",
      "Testing ebf(200, 6, 0.1)\n",
      "\n",
      "--- 15/15 points. Your call to ebf correctly returned 2.185373306274414\n",
      "\n",
      "cs440 Grade is 80/80\n",
      "\n",
      "Up to 20 more points will be given based on the quality of your descriptions of the method and the results.\n"
     ]
    }
   ],
   "source": [
    "%run -i A3grader.py"
   ]
  },
  {
   "cell_type": "markdown",
   "metadata": {},
   "source": [
    "## Extra Credit"
   ]
  },
  {
   "cell_type": "markdown",
   "metadata": {},
   "source": [
    "Add a third column for each result (from running `runExperiment`) that is the number of seconds each search required.  You may get the total run time when running a function by doing\n",
    "\n",
    "     import time\n",
    "    \n",
    "     start_time = time.time()\n",
    "    \n",
    "     < do some python stuff >\n",
    "    \n",
    "     end_time = time.time()\n",
    "     print('This took', end_time - start_time, 'seconds.')\n"
   ]
  },
  {
   "cell_type": "code",
   "execution_count": null,
   "metadata": {
    "collapsed": true
   },
   "outputs": [],
   "source": []
  }
 ],
 "metadata": {
  "anaconda-cloud": {},
  "kernelspec": {
   "display_name": "Python 3",
   "language": "python",
   "name": "python3"
  },
  "language_info": {
   "codemirror_mode": {
    "name": "ipython",
    "version": 3
   },
   "file_extension": ".py",
   "mimetype": "text/x-python",
   "name": "python",
   "nbconvert_exporter": "python",
   "pygments_lexer": "ipython3",
   "version": "3.6.3"
  }
 },
 "nbformat": 4,
 "nbformat_minor": 2
}
